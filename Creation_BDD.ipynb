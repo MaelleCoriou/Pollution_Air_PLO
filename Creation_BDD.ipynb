{
 "cells": [
  {
   "cell_type": "code",
   "execution_count": 3,
   "metadata": {},
   "outputs": [],
   "source": [
    "# Librairie Os pour les chemins de fichiers et variables d'environnement\n",
    "import os\n",
    "# Librairie csv pour créer et lire le format csv\n",
    "import csv\n",
    "import sqlite3\n",
    "import pandas as pd\n",
    "import numpy as np"
   ]
  },
  {
   "cell_type": "code",
   "execution_count": 2,
   "metadata": {},
   "outputs": [],
   "source": [
    "\n",
    "# Spécifier le nom de la base de données créée au préalable dans PgAdmin\n",
    "nom_bdd = \"pollution_plo.db\"\n",
    "\n",
    "\n",
    "# Fonction conn appelle la fonction ouvrir_connexion du fichier annexe Python\n",
    "conn = sqlite3.connect(nom_bdd)\n",
    "\n",
    "curs = conn.cursor()"
   ]
  },
  {
   "cell_type": "code",
   "execution_count": 3,
   "metadata": {},
   "outputs": [],
   "source": [
    "creation_table_localisation = \"\"\"\n",
    "        CREATE TABLE IF NOT EXISTS localisation (\n",
    "        code_station INT PRIMARY KEY,\n",
    "        nom_departement VARCHAR(45),\n",
    "        nom_com VARCHAR(45),\n",
    "        code_insee_com INT,\n",
    "        nom_station VARCHAR(45),\n",
    "        typologie VARCHAR(45),\n",
    "        x_reglementaire REAL,\n",
    "        y_reglementaire REAL\n",
    "        );\n",
    "\"\"\"\n",
    "creation_table_mesures = \"\"\"       \n",
    "        CREATE TABLE IF NOT EXISTS mesures_journalieres (\n",
    "        code_station INT,\n",
    "        polluant VARCHAR(45),\n",
    "        valeur FLOAT,\n",
    "        unite VARCHAR(45),\n",
    "        date DATE,\n",
    "        Année YEAR,\n",
    "        Mois MONTH,\n",
    "        statut_valid BOOL,\n",
    "        FOREIGN KEY(code_station) REFERENCES localisation(code_station)\n",
    "        );\n",
    "\"\"\""
   ]
  },
  {
   "cell_type": "code",
   "execution_count": 4,
   "metadata": {},
   "outputs": [],
   "source": [
    "curs.execute(creation_table_localisation)\n",
    "conn.commit()"
   ]
  },
  {
   "cell_type": "code",
   "execution_count": 5,
   "metadata": {},
   "outputs": [],
   "source": [
    "curs.execute(creation_table_mesures)\n",
    "conn.commit()"
   ]
  },
  {
   "cell_type": "code",
   "execution_count": 6,
   "metadata": {},
   "outputs": [],
   "source": [
    "Localisation = pd.read_csv('Data/Localisation.csv', sep=';', engine='python', encoding='utf-8')"
   ]
  },
  {
   "cell_type": "code",
   "execution_count": 7,
   "metadata": {},
   "outputs": [],
   "source": [
    "Localisation.to_sql('localisation', conn, if_exists='append', index=False)"
   ]
  },
  {
   "cell_type": "code",
   "execution_count": 8,
   "metadata": {},
   "outputs": [],
   "source": [
    "Journalier = pd.read_csv('Data/Journalier.csv', sep=';', engine='python', encoding='utf-8')"
   ]
  },
  {
   "cell_type": "code",
   "execution_count": 9,
   "metadata": {},
   "outputs": [],
   "source": [
    "Journalier.to_sql('mesures_journalieres', conn, if_exists='append', index=False)"
   ]
  },
  {
   "cell_type": "code",
   "execution_count": 10,
   "metadata": {},
   "outputs": [],
   "source": [
    "conn.close()"
   ]
  },
  {
   "cell_type": "code",
   "execution_count": null,
   "metadata": {},
   "outputs": [],
   "source": []
  }
 ],
 "metadata": {
  "kernelspec": {
   "display_name": "Python 3",
   "language": "python",
   "name": "python3"
  },
  "language_info": {
   "codemirror_mode": {
    "name": "ipython",
    "version": 3
   },
   "file_extension": ".py",
   "mimetype": "text/x-python",
   "name": "python",
   "nbconvert_exporter": "python",
   "pygments_lexer": "ipython3",
   "version": "3.8.6"
  }
 },
 "nbformat": 4,
 "nbformat_minor": 4
}
