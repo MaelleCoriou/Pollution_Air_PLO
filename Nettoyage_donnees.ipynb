{
 "cells": [
  {
   "cell_type": "code",
   "execution_count": 1,
   "metadata": {},
   "outputs": [],
   "source": [
    "# Librairie Os pour les chemins de fichiers et variables d'environnement\n",
    "import os\n",
    "# Librairie csv pour créer et lire le format csv\n",
    "import csv\n",
    "import pandas as pd\n",
    "import numpy as np"
   ]
  },
  {
   "cell_type": "markdown",
   "metadata": {},
   "source": [
    "LIRE LES CSV"
   ]
  },
  {
   "cell_type": "code",
   "execution_count": 2,
   "metadata": {},
   "outputs": [],
   "source": [
    "df_loc = pd.read_csv('Data/Sources/NO2 02-03-2020_01-03-2021 JOURNALIER.csv', sep=';', engine='python', encoding='utf-8')"
   ]
  },
  {
   "cell_type": "code",
   "execution_count": 3,
   "metadata": {},
   "outputs": [],
   "source": [
    "df2_loc = pd.read_csv('Data/Sources/PM10 02-03-2020_01-03-2021 JOURNALIER.csv', sep=';', engine='python', encoding='utf-8')"
   ]
  },
  {
   "cell_type": "code",
   "execution_count": 4,
   "metadata": {},
   "outputs": [],
   "source": [
    "df = pd.read_csv('Data/Sources/Journalier 011219_010320 PM10.csv', sep=';', engine='python', encoding='utf-8')"
   ]
  },
  {
   "cell_type": "code",
   "execution_count": 5,
   "metadata": {},
   "outputs": [],
   "source": [
    "df2 = pd.read_csv('Data/Sources/Journalier 011219_010320 NO2.csv', sep=';', engine='python', encoding='utf-8')"
   ]
  },
  {
   "cell_type": "code",
   "execution_count": 6,
   "metadata": {},
   "outputs": [],
   "source": [
    "df3 = pd.read_csv('Data/Sources/Journalier 010919_311119 PM10.csv', sep=';', engine='python', encoding='utf-8')"
   ]
  },
  {
   "cell_type": "code",
   "execution_count": 7,
   "metadata": {},
   "outputs": [],
   "source": [
    "df4 = pd.read_csv('Data/Sources/Journalier 010919_311119 NO2.csv', sep=';', engine='python', encoding='utf-8')"
   ]
  },
  {
   "cell_type": "code",
   "execution_count": 8,
   "metadata": {},
   "outputs": [],
   "source": [
    "df5 = pd.read_csv('Data/Sources/Journalier 010919_311119 NO2.csv', sep=';', engine='python', encoding='utf-8')"
   ]
  },
  {
   "cell_type": "code",
   "execution_count": 9,
   "metadata": {},
   "outputs": [],
   "source": [
    "df6 = pd.read_csv('Data/Sources/Journalier 010919_311119 PM10.csv', sep=';', engine='python', encoding='utf-8')"
   ]
  },
  {
   "cell_type": "code",
   "execution_count": 10,
   "metadata": {},
   "outputs": [],
   "source": [
    "df7 = pd.read_csv('Data/Sources/Journalier 010619_300819 PM10.csv', sep=';', engine='python', encoding='utf-8')"
   ]
  },
  {
   "cell_type": "code",
   "execution_count": 11,
   "metadata": {},
   "outputs": [],
   "source": [
    "df8 = pd.read_csv('Data/Sources/Journalier 010619_300819 NO2.csv', sep=';', engine='python', encoding='utf-8')"
   ]
  },
  {
   "cell_type": "code",
   "execution_count": 12,
   "metadata": {},
   "outputs": [],
   "source": [
    "df9 = pd.read_csv('Data/Sources/Journalier 010319_310519 PM10.csv', sep=';', engine='python', encoding='utf-8')"
   ]
  },
  {
   "cell_type": "code",
   "execution_count": 13,
   "metadata": {},
   "outputs": [],
   "source": [
    "df10 = pd.read_csv('Data/Sources/Journalier 010319_310519 NO2.csv', sep=';', engine='python', encoding='utf-8')"
   ]
  },
  {
   "cell_type": "code",
   "execution_count": 14,
   "metadata": {},
   "outputs": [],
   "source": [
    "df11 = pd.read_csv('Data/Sources/Journalier 020320_300620 NO2.csv', sep=';', engine='python', encoding='utf-8')"
   ]
  },
  {
   "cell_type": "code",
   "execution_count": 15,
   "metadata": {},
   "outputs": [],
   "source": [
    "df12 = pd.read_csv('Data/Sources/Journalier 020320_300620 PM10.csv', sep=';', engine='python', encoding='utf-8')"
   ]
  },
  {
   "cell_type": "code",
   "execution_count": 16,
   "metadata": {},
   "outputs": [],
   "source": [
    "df13 = pd.read_csv('Data/Sources/Journalier 010720_291020 PM10.csv', sep=';', engine='python', encoding='utf-8')"
   ]
  },
  {
   "cell_type": "code",
   "execution_count": 17,
   "metadata": {},
   "outputs": [],
   "source": [
    "df14 = pd.read_csv('Data/Sources/Journalier 010720_291020 NO2.csv', sep=';', engine='python', encoding='utf-8')"
   ]
  },
  {
   "cell_type": "code",
   "execution_count": 18,
   "metadata": {},
   "outputs": [],
   "source": [
    "df15 = pd.read_csv('Data/Sources/Journalier 301020_270221 NO2.csv', sep=';', engine='python', encoding='utf-8')"
   ]
  },
  {
   "cell_type": "code",
   "execution_count": 19,
   "metadata": {},
   "outputs": [],
   "source": [
    "df16 = pd.read_csv('Data/Sources/Journalier 301020_270221 PM10.csv', sep=';', engine='python', encoding='utf-8')"
   ]
  },
  {
   "cell_type": "code",
   "execution_count": 20,
   "metadata": {},
   "outputs": [],
   "source": [
    "df17 = pd.read_csv('Data/Sources/Journalier 280221_130321 PM10.csv', sep=';', engine='python', encoding='utf-8')"
   ]
  },
  {
   "cell_type": "code",
   "execution_count": 21,
   "metadata": {},
   "outputs": [],
   "source": [
    "df18 = pd.read_csv('Data/Sources/Journalier 280221_130321 NO2.csv', sep=';', engine='python', encoding='utf-8')"
   ]
  },
  {
   "cell_type": "code",
   "execution_count": 22,
   "metadata": {},
   "outputs": [],
   "source": [
    "df_indice = pd.read_csv('Data/Sources/indices2.csv', sep=';', engine='python', encoding='utf-8')"
   ]
  },
  {
   "cell_type": "code",
   "execution_count": 23,
   "metadata": {},
   "outputs": [],
   "source": [
    "df_poll = pd.read_csv('Data/Sources/Polluants.csv', sep=';', engine='python', encoding='utf-8')"
   ]
  },
  {
   "cell_type": "code",
   "execution_count": 24,
   "metadata": {},
   "outputs": [
    {
     "data": {
      "text/html": [
       "<div>\n",
       "<style scoped>\n",
       "    .dataframe tbody tr th:only-of-type {\n",
       "        vertical-align: middle;\n",
       "    }\n",
       "\n",
       "    .dataframe tbody tr th {\n",
       "        vertical-align: top;\n",
       "    }\n",
       "\n",
       "    .dataframe thead th {\n",
       "        text-align: right;\n",
       "    }\n",
       "</style>\n",
       "<table border=\"1\" class=\"dataframe\">\n",
       "  <thead>\n",
       "    <tr style=\"text-align: right;\">\n",
       "      <th></th>\n",
       "      <th>nom_departement</th>\n",
       "      <th>nom_zone</th>\n",
       "      <th>nom_station</th>\n",
       "      <th>code_station</th>\n",
       "      <th>polluant</th>\n",
       "      <th>niveau</th>\n",
       "      <th>unite</th>\n",
       "      <th>mesure</th>\n",
       "      <th>etat</th>\n",
       "      <th>date</th>\n",
       "      <th>TZ</th>\n",
       "    </tr>\n",
       "  </thead>\n",
       "  <tbody>\n",
       "    <tr>\n",
       "      <th>0</th>\n",
       "      <td>Maine et Loire</td>\n",
       "      <td>Angers</td>\n",
       "      <td>Beaux Arts</td>\n",
       "      <td>120</td>\n",
       "      <td>NO2</td>\n",
       "      <td>18.0</td>\n",
       "      <td>microg/m3</td>\n",
       "      <td>moyenne journalière</td>\n",
       "      <td>V</td>\n",
       "      <td>2019-03-01</td>\n",
       "      <td>UTC</td>\n",
       "    </tr>\n",
       "    <tr>\n",
       "      <th>1</th>\n",
       "      <td>Maine et Loire</td>\n",
       "      <td>Angers</td>\n",
       "      <td>Beaux Arts</td>\n",
       "      <td>120</td>\n",
       "      <td>NO2</td>\n",
       "      <td>10.0</td>\n",
       "      <td>microg/m3</td>\n",
       "      <td>moyenne journalière</td>\n",
       "      <td>V</td>\n",
       "      <td>2019-03-02</td>\n",
       "      <td>UTC</td>\n",
       "    </tr>\n",
       "    <tr>\n",
       "      <th>2</th>\n",
       "      <td>Maine et Loire</td>\n",
       "      <td>Angers</td>\n",
       "      <td>Beaux Arts</td>\n",
       "      <td>120</td>\n",
       "      <td>NO2</td>\n",
       "      <td>5.0</td>\n",
       "      <td>microg/m3</td>\n",
       "      <td>moyenne journalière</td>\n",
       "      <td>V</td>\n",
       "      <td>2019-03-03</td>\n",
       "      <td>UTC</td>\n",
       "    </tr>\n",
       "    <tr>\n",
       "      <th>3</th>\n",
       "      <td>Maine et Loire</td>\n",
       "      <td>Angers</td>\n",
       "      <td>Beaux Arts</td>\n",
       "      <td>120</td>\n",
       "      <td>NO2</td>\n",
       "      <td>9.0</td>\n",
       "      <td>microg/m3</td>\n",
       "      <td>moyenne journalière</td>\n",
       "      <td>V</td>\n",
       "      <td>2019-03-04</td>\n",
       "      <td>UTC</td>\n",
       "    </tr>\n",
       "    <tr>\n",
       "      <th>4</th>\n",
       "      <td>Maine et Loire</td>\n",
       "      <td>Angers</td>\n",
       "      <td>Beaux Arts</td>\n",
       "      <td>120</td>\n",
       "      <td>NO2</td>\n",
       "      <td>14.0</td>\n",
       "      <td>microg/m3</td>\n",
       "      <td>moyenne journalière</td>\n",
       "      <td>V</td>\n",
       "      <td>2019-03-05</td>\n",
       "      <td>UTC</td>\n",
       "    </tr>\n",
       "  </tbody>\n",
       "</table>\n",
       "</div>"
      ],
      "text/plain": [
       "  nom_departement nom_zone nom_station  code_station polluant  niveau  \\\n",
       "0  Maine et Loire   Angers  Beaux Arts           120      NO2    18.0   \n",
       "1  Maine et Loire   Angers  Beaux Arts           120      NO2    10.0   \n",
       "2  Maine et Loire   Angers  Beaux Arts           120      NO2     5.0   \n",
       "3  Maine et Loire   Angers  Beaux Arts           120      NO2     9.0   \n",
       "4  Maine et Loire   Angers  Beaux Arts           120      NO2    14.0   \n",
       "\n",
       "       unite               mesure etat        date   TZ  \n",
       "0  microg/m3  moyenne journalière    V  2019-03-01  UTC  \n",
       "1  microg/m3  moyenne journalière    V  2019-03-02  UTC  \n",
       "2  microg/m3  moyenne journalière    V  2019-03-03  UTC  \n",
       "3  microg/m3  moyenne journalière    V  2019-03-04  UTC  \n",
       "4  microg/m3  moyenne journalière    V  2019-03-05  UTC  "
      ]
     },
     "execution_count": 24,
     "metadata": {},
     "output_type": "execute_result"
    }
   ],
   "source": [
    "df10.head()"
   ]
  },
  {
   "cell_type": "markdown",
   "metadata": {},
   "source": [
    "### MESURES JOURNALIERES : 2019 / 2021"
   ]
  },
  {
   "cell_type": "code",
   "execution_count": 25,
   "metadata": {},
   "outputs": [],
   "source": [
    "concat_journalier = pd.concat((df,df2,df3,df4,df5,df6,df7,df8,df9,df10,df11,df12,df13,df14,df15,df16,df17,df18))\n",
    "concat_journalier.to_csv(r'Data/Journalier 2020-2021.csv', index = False, sep = ';', encoding='utf-8')"
   ]
  },
  {
   "cell_type": "code",
   "execution_count": 26,
   "metadata": {},
   "outputs": [
    {
     "data": {
      "text/html": [
       "<div>\n",
       "<style scoped>\n",
       "    .dataframe tbody tr th:only-of-type {\n",
       "        vertical-align: middle;\n",
       "    }\n",
       "\n",
       "    .dataframe tbody tr th {\n",
       "        vertical-align: top;\n",
       "    }\n",
       "\n",
       "    .dataframe thead th {\n",
       "        text-align: right;\n",
       "    }\n",
       "</style>\n",
       "<table border=\"1\" class=\"dataframe\">\n",
       "  <thead>\n",
       "    <tr style=\"text-align: right;\">\n",
       "      <th></th>\n",
       "      <th>nom_departement</th>\n",
       "      <th>nom_zone</th>\n",
       "      <th>nom_station</th>\n",
       "      <th>code_station</th>\n",
       "      <th>polluant</th>\n",
       "      <th>niveau</th>\n",
       "      <th>unite</th>\n",
       "      <th>mesure</th>\n",
       "      <th>etat</th>\n",
       "      <th>date</th>\n",
       "      <th>TZ</th>\n",
       "    </tr>\n",
       "  </thead>\n",
       "  <tbody>\n",
       "    <tr>\n",
       "      <th>0</th>\n",
       "      <td>Maine et Loire</td>\n",
       "      <td>Angers</td>\n",
       "      <td>Beaux Arts</td>\n",
       "      <td>120</td>\n",
       "      <td>PM10</td>\n",
       "      <td>15.0</td>\n",
       "      <td>microg/m3</td>\n",
       "      <td>moyenne journalière</td>\n",
       "      <td>V</td>\n",
       "      <td>2019-12-01</td>\n",
       "      <td>UTC</td>\n",
       "    </tr>\n",
       "  </tbody>\n",
       "</table>\n",
       "</div>"
      ],
      "text/plain": [
       "  nom_departement nom_zone nom_station  code_station polluant  niveau  \\\n",
       "0  Maine et Loire   Angers  Beaux Arts           120     PM10    15.0   \n",
       "\n",
       "       unite               mesure etat        date   TZ  \n",
       "0  microg/m3  moyenne journalière    V  2019-12-01  UTC  "
      ]
     },
     "execution_count": 26,
     "metadata": {},
     "output_type": "execute_result"
    }
   ],
   "source": [
    "concat_journalier.head(1)"
   ]
  },
  {
   "cell_type": "code",
   "execution_count": 27,
   "metadata": {},
   "outputs": [],
   "source": [
    "Update_Journalier = concat_journalier.drop(columns=['nom_departement', 'nom_zone', 'nom_station', 'mesure','TZ'])\n",
    "Journalier = Update_Journalier.rename(columns = {'niveau' : 'valeur', 'etat' : 'statut_valid'})\n",
    "#Journalier.insert(0, 'id_journalieres', '')"
   ]
  },
  {
   "cell_type": "code",
   "execution_count": 28,
   "metadata": {},
   "outputs": [
    {
     "name": "stdout",
     "output_type": "stream",
     "text": [
      "   code_station polluant  valeur      unite statut_valid        date\n",
      "0           120     PM10    15.0  microg/m3            V  2019-12-01\n",
      "1           120     PM10    11.0  microg/m3            V  2019-12-02\n",
      "2           120     PM10    21.0  microg/m3            V  2019-12-03\n",
      "3           120     PM10    30.0  microg/m3            V  2019-12-04\n",
      "4           120     PM10    28.0  microg/m3            V  2019-12-05\n"
     ]
    }
   ],
   "source": [
    "print(Journalier.head())"
   ]
  },
  {
   "cell_type": "code",
   "execution_count": 29,
   "metadata": {},
   "outputs": [],
   "source": [
    "Journalier['statut_valid'].replace(['V','B', None],[True, True, False], inplace=True)"
   ]
  },
  {
   "cell_type": "code",
   "execution_count": 30,
   "metadata": {},
   "outputs": [],
   "source": [
    "Journalier['Année'] = pd.DatetimeIndex(Journalier['date']).year\n",
    "Journalier['Mois'] = pd.DatetimeIndex(Journalier['date']).month"
   ]
  },
  {
   "cell_type": "code",
   "execution_count": 31,
   "metadata": {},
   "outputs": [
    {
     "data": {
      "text/html": [
       "<div>\n",
       "<style scoped>\n",
       "    .dataframe tbody tr th:only-of-type {\n",
       "        vertical-align: middle;\n",
       "    }\n",
       "\n",
       "    .dataframe tbody tr th {\n",
       "        vertical-align: top;\n",
       "    }\n",
       "\n",
       "    .dataframe thead th {\n",
       "        text-align: right;\n",
       "    }\n",
       "</style>\n",
       "<table border=\"1\" class=\"dataframe\">\n",
       "  <thead>\n",
       "    <tr style=\"text-align: right;\">\n",
       "      <th></th>\n",
       "      <th>code_station</th>\n",
       "      <th>polluant</th>\n",
       "      <th>valeur</th>\n",
       "      <th>unite</th>\n",
       "      <th>statut_valid</th>\n",
       "      <th>date</th>\n",
       "      <th>Année</th>\n",
       "      <th>Mois</th>\n",
       "    </tr>\n",
       "  </thead>\n",
       "  <tbody>\n",
       "    <tr>\n",
       "      <th>0</th>\n",
       "      <td>120</td>\n",
       "      <td>PM10</td>\n",
       "      <td>15.0</td>\n",
       "      <td>microg/m3</td>\n",
       "      <td>True</td>\n",
       "      <td>2019-12-01</td>\n",
       "      <td>2019</td>\n",
       "      <td>12</td>\n",
       "    </tr>\n",
       "  </tbody>\n",
       "</table>\n",
       "</div>"
      ],
      "text/plain": [
       "   code_station polluant  valeur      unite  statut_valid        date  Année  \\\n",
       "0           120     PM10    15.0  microg/m3          True  2019-12-01   2019   \n",
       "\n",
       "   Mois  \n",
       "0    12  "
      ]
     },
     "execution_count": 31,
     "metadata": {},
     "output_type": "execute_result"
    }
   ],
   "source": [
    "Journalier.head(1)"
   ]
  },
  {
   "cell_type": "code",
   "execution_count": 32,
   "metadata": {},
   "outputs": [],
   "source": [
    "Journalier.to_csv(r'Data/Journalier.csv', index = False, sep = ';', encoding='utf-8')"
   ]
  },
  {
   "cell_type": "code",
   "execution_count": 33,
   "metadata": {},
   "outputs": [
    {
     "data": {
      "text/plain": [
       "array([120, 107, 177, 188,  70,  78, 110, 238, 152, 140, 239, 123, 178,\n",
       "       182,  68, 124, 181,   3,  75, 150,  46, 174,   1, 153, 249],\n",
       "      dtype=int64)"
      ]
     },
     "execution_count": 33,
     "metadata": {},
     "output_type": "execute_result"
    }
   ],
   "source": [
    "Journalier.code_station.unique()"
   ]
  },
  {
   "cell_type": "markdown",
   "metadata": {},
   "source": [
    "### LOCALISATION"
   ]
  },
  {
   "cell_type": "code",
   "execution_count": 34,
   "metadata": {},
   "outputs": [],
   "source": [
    "concat_journalier = pd.concat((df_loc,df2_loc))\n",
    "concat_journalier.to_csv(r'Data/Sources/Journalier 2020-2021.csv', index = False, sep = ';', encoding='utf-8')"
   ]
  },
  {
   "cell_type": "code",
   "execution_count": 35,
   "metadata": {},
   "outputs": [],
   "source": [
    "Extract_Localisation_2 = concat_journalier.drop(columns = ['nom_poll', 'valeur', 'unite', 'metrique', 'date_debut', 'statut_valid', 'id_poll_ue', 'date_fin', 'source'])\n",
    "Localisation_2 = Extract_Localisation_2.rename(columns = {'nom_dept' : 'nom_departement'})"
   ]
  },
  {
   "cell_type": "code",
   "execution_count": 36,
   "metadata": {},
   "outputs": [],
   "source": [
    "Localisation_2['code_station'].replace(['FR23001','FR23003','FR23046','FR23068','FR23070','FR23075','FR23078','FR23107','FR23110','FR23120','FR23123','FR23124','FR23140','FR23150','FR23152','FR23153','FR23174','FR23177','FR23181','FR23182','FR23188','FR23238','FR23239','FR23178'], ['1', '3', '46', '68', '70', '75', '78', '107', '110', '120', '123', '124', '140', '150', '152', '153', '174', '177', '181', '182', '188', '238', '239', '178'],  inplace=True)"
   ]
  },
  {
   "cell_type": "code",
   "execution_count": 37,
   "metadata": {},
   "outputs": [],
   "source": [
    "Localisation = Localisation_2.drop_duplicates('code_station')"
   ]
  },
  {
   "cell_type": "code",
   "execution_count": 38,
   "metadata": {},
   "outputs": [
    {
     "data": {
      "text/plain": [
       "array(['1', '3', '46', '68', '70', '75', '78', '107', '110', '120', '123',\n",
       "       '124', '140', '150', '152', '153', '174', '177', '181', '182',\n",
       "       '188', '238', '239', '178'], dtype=object)"
      ]
     },
     "execution_count": 38,
     "metadata": {},
     "output_type": "execute_result"
    }
   ],
   "source": [
    "Localisation.code_station.unique()"
   ]
  },
  {
   "cell_type": "code",
   "execution_count": 39,
   "metadata": {},
   "outputs": [],
   "source": [
    "Localisation.to_csv(r'Data/Localisation.csv', index = False, sep = ';', encoding='utf-8')"
   ]
  },
  {
   "cell_type": "markdown",
   "metadata": {},
   "source": [
    "TABLE LOCALISATION : CONCAT_LOCALISATION"
   ]
  },
  {
   "cell_type": "code",
   "execution_count": 40,
   "metadata": {},
   "outputs": [
    {
     "name": "stdout",
     "output_type": "stream",
     "text": [
      "    nom_departement nom_com  code_insee_com nom_station code_station  \\\n",
      "0  Loire-Atlantique  Donges           44052      Ampère            1   \n",
      "\n",
      "  typologie  x_reglementaire  y_reglementaire  \n",
      "0  suburban    316466.782211     6.703891e+06  \n"
     ]
    }
   ],
   "source": [
    "print(Localisation.head(1))"
   ]
  },
  {
   "cell_type": "markdown",
   "metadata": {},
   "source": [
    "### INDICES"
   ]
  },
  {
   "cell_type": "code",
   "execution_count": 41,
   "metadata": {},
   "outputs": [],
   "source": [
    "Indices = df_indice.drop(columns=['source', 'date_diffusion'])"
   ]
  },
  {
   "cell_type": "code",
   "execution_count": 42,
   "metadata": {},
   "outputs": [
    {
     "name": "stdout",
     "output_type": "stream",
     "text": [
      "   code_zone          lib_zone              date_echeance                etat  \\\n",
      "0         44  Loire-Atlantique  2021-03-04 23:00:01+00:00  PAS DE DEPASSEMENT   \n",
      "\n",
      "  polluant  \n",
      "0      NO2  \n"
     ]
    }
   ],
   "source": [
    "print(Indices.head(1))"
   ]
  },
  {
   "cell_type": "code",
   "execution_count": 43,
   "metadata": {},
   "outputs": [],
   "source": [
    "Indices.to_csv(r'Data/Indices.csv', index = False, sep = ';', encoding='utf-8')"
   ]
  },
  {
   "cell_type": "code",
   "execution_count": null,
   "metadata": {},
   "outputs": [],
   "source": []
  }
 ],
 "metadata": {
  "kernelspec": {
   "display_name": "Python 3",
   "language": "python",
   "name": "python3"
  },
  "language_info": {
   "codemirror_mode": {
    "name": "ipython",
    "version": 3
   },
   "file_extension": ".py",
   "mimetype": "text/x-python",
   "name": "python",
   "nbconvert_exporter": "python",
   "pygments_lexer": "ipython3",
   "version": "3.8.6"
  }
 },
 "nbformat": 4,
 "nbformat_minor": 4
}
